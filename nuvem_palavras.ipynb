{
 "cells": [
  {
   "cell_type": "code",
   "execution_count": null,
   "metadata": {},
   "outputs": [],
   "source": [
    "# Importando biblioteca Pandas para a criação e manipulação de DataFrames.\n",
    "import pandas as pd\n",
    "\n",
    "# Importando o Numpy.\n",
    "import numpy as np\n",
    "\n",
    "# Importando o método PLT para visualizar graficamente os dados, cálculos e regressões que aplicarmos.\n",
    "import matplotlib.pylab as plt\n",
    "\n",
    "# importar os pacotes necessários para a nuvem de palavras\n",
    "from PIL import Image\n",
    "from wordcloud import WordCloud\n",
    "from nltk.corpus import stopwords\n",
    "import DataFrame"
   ]
  },
  {
   "cell_type": "code",
   "execution_count": null,
   "metadata": {},
   "outputs": [],
   "source": [
    "# criar dataframe de tweets\n",
    "tweets = DataFrame.cria_df()\n",
    "\n",
    "# concatenar as palavras\n",
    "palavras = \" \".join(s for s in tweets)\n",
    "\n",
    "# criar array de rgb da imagem da logo do twiteer\n",
    "mascara_twitter = np.array(Image.open(\"twitterescuro.jpeg\"))\n",
    "\n",
    "# ver quantidade de palavras\n",
    "print(\"Quantidade de Palavras: {}\".format(len(palavras)))\n",
    "\n",
    "# gerar uma wordcloud\n",
    "nuvem_palavras = WordCloud(stopwords=stopwords.words('portuguese'),\n",
    "                      background_color=\"black\",\n",
    "                      width=1000, \n",
    "                      height=1000, \n",
    "                      max_words=2000,\n",
    "                      mask=mascara_twitter, \n",
    "                      max_font_size=200,\n",
    "                      min_font_size=1).generate(palavras)\n",
    "\n",
    "# mostrar a imagem final\n",
    "figura, ax = plt.subplots(figsize=(10,6))\n",
    "ax.imshow(nuvem_palavras, interpolation='bilinear')\n",
    "ax.set_axis_off()\n",
    "\n",
    "plt.imshow(nuvem_palavras);\n",
    "nuvem_palavras.to_file(\"wordcloud_tweets.png\")"
   ]
  },
  {
   "cell_type": "code",
   "execution_count": null,
   "metadata": {},
   "outputs": [],
   "source": [
    "dataframe = pd.read_csv(\"tweets_texto_agrupados.csv\").sample(n = 3);\n",
    "\n",
    "dataframe"
   ]
  }
 ],
 "metadata": {
  "kernelspec": {
   "display_name": "Python 3.10.0 64-bit",
   "language": "python",
   "name": "python3"
  },
  "language_info": {
   "codemirror_mode": {
    "name": "ipython",
    "version": 3
   },
   "file_extension": ".py",
   "mimetype": "text/x-python",
   "name": "python",
   "nbconvert_exporter": "python",
   "pygments_lexer": "ipython3",
   "version": "3.10.0"
  },
  "orig_nbformat": 4,
  "vscode": {
   "interpreter": {
    "hash": "04eeb17173dda19b79ef31ce2f9124539f6d3d7f6428065f88e9861f21898bc8"
   }
  }
 },
 "nbformat": 4,
 "nbformat_minor": 2
}
