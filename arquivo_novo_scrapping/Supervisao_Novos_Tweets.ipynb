{
 "cells": [
  {
   "cell_type": "code",
   "execution_count": 2,
   "metadata": {},
   "outputs": [],
   "source": [
    "# Retirando avisos de erros.\n",
    "import warnings\n",
    "warnings.filterwarnings('ignore')\n",
    "\n",
    "# Importando biblioteca Pandas para a criação e manipulação de DataFrames.\n",
    "import pandas as pd\n",
    "\n",
    "# Importando o Numpy.\n",
    "import numpy as np\n",
    "\n",
    "# Importando modelos para a realização dos testes de treino.\n",
    "from sklearn.linear_model import LogisticRegression\n",
    "from sklearn.naive_bayes import MultinomialNB\n",
    "\n",
    "# Importando métricas de avaliações para os modelos.\n",
    "from sklearn.metrics import confusion_matrix, f1_score\n",
    "\n",
    "# Importando o método de validação cruzada K-Fold, pontuação do modelo e o separador de dados para treino e teste.\n",
    "from sklearn.model_selection import KFold, cross_val_score,train_test_split\n",
    "\n",
    "# Importando o método Seaborn para visualização gráfica das matrizes de confusão.\n",
    "import seaborn as sn"
   ]
  },
  {
   "cell_type": "code",
   "execution_count": 3,
   "metadata": {},
   "outputs": [
    {
     "data": {
      "text/html": [
       "<div>\n",
       "<style scoped>\n",
       "    .dataframe tbody tr th:only-of-type {\n",
       "        vertical-align: middle;\n",
       "    }\n",
       "\n",
       "    .dataframe tbody tr th {\n",
       "        vertical-align: top;\n",
       "    }\n",
       "\n",
       "    .dataframe thead th {\n",
       "        text-align: right;\n",
       "    }\n",
       "</style>\n",
       "<table border=\"1\" class=\"dataframe\">\n",
       "  <thead>\n",
       "    <tr style=\"text-align: right;\">\n",
       "      <th></th>\n",
       "      <th>0</th>\n",
       "      <th>1</th>\n",
       "      <th>2</th>\n",
       "      <th>3</th>\n",
       "      <th>4</th>\n",
       "      <th>5</th>\n",
       "      <th>6</th>\n",
       "      <th>7</th>\n",
       "      <th>8</th>\n",
       "      <th>9</th>\n",
       "      <th>...</th>\n",
       "      <th>326</th>\n",
       "      <th>327</th>\n",
       "      <th>328</th>\n",
       "      <th>329</th>\n",
       "      <th>330</th>\n",
       "      <th>331</th>\n",
       "      <th>332</th>\n",
       "      <th>333</th>\n",
       "      <th>334</th>\n",
       "      <th>335</th>\n",
       "    </tr>\n",
       "  </thead>\n",
       "  <tbody>\n",
       "    <tr>\n",
       "      <th>0</th>\n",
       "      <td>NaN</td>\n",
       "      <td>11</td>\n",
       "      <td>14</td>\n",
       "      <td>20</td>\n",
       "      <td>2022</td>\n",
       "      <td>22</td>\n",
       "      <td>24</td>\n",
       "      <td>26</td>\n",
       "      <td>269</td>\n",
       "      <td>2⁰</td>\n",
       "      <td>...</td>\n",
       "      <td>voltou</td>\n",
       "      <td>voluntários</td>\n",
       "      <td>votar</td>\n",
       "      <td>votos</td>\n",
       "      <td>votou</td>\n",
       "      <td>vídeo</td>\n",
       "      <td>xandão</td>\n",
       "      <td>youtu</td>\n",
       "      <td>índios</td>\n",
       "      <td>Cluster</td>\n",
       "    </tr>\n",
       "    <tr>\n",
       "      <th>1</th>\n",
       "      <td>0.0</td>\n",
       "      <td>0</td>\n",
       "      <td>0</td>\n",
       "      <td>1</td>\n",
       "      <td>0</td>\n",
       "      <td>0</td>\n",
       "      <td>0</td>\n",
       "      <td>0</td>\n",
       "      <td>0</td>\n",
       "      <td>0</td>\n",
       "      <td>...</td>\n",
       "      <td>1</td>\n",
       "      <td>0</td>\n",
       "      <td>1</td>\n",
       "      <td>0</td>\n",
       "      <td>1</td>\n",
       "      <td>0</td>\n",
       "      <td>0</td>\n",
       "      <td>0</td>\n",
       "      <td>0</td>\n",
       "      <td>negative</td>\n",
       "    </tr>\n",
       "    <tr>\n",
       "      <th>2</th>\n",
       "      <td>1.0</td>\n",
       "      <td>0</td>\n",
       "      <td>0</td>\n",
       "      <td>0</td>\n",
       "      <td>0</td>\n",
       "      <td>0</td>\n",
       "      <td>0</td>\n",
       "      <td>0</td>\n",
       "      <td>0</td>\n",
       "      <td>0</td>\n",
       "      <td>...</td>\n",
       "      <td>0</td>\n",
       "      <td>0</td>\n",
       "      <td>0</td>\n",
       "      <td>0</td>\n",
       "      <td>0</td>\n",
       "      <td>0</td>\n",
       "      <td>0</td>\n",
       "      <td>0</td>\n",
       "      <td>0</td>\n",
       "      <td>negative</td>\n",
       "    </tr>\n",
       "    <tr>\n",
       "      <th>3</th>\n",
       "      <td>2.0</td>\n",
       "      <td>0</td>\n",
       "      <td>0</td>\n",
       "      <td>0</td>\n",
       "      <td>0</td>\n",
       "      <td>0</td>\n",
       "      <td>0</td>\n",
       "      <td>0</td>\n",
       "      <td>0</td>\n",
       "      <td>0</td>\n",
       "      <td>...</td>\n",
       "      <td>0</td>\n",
       "      <td>0</td>\n",
       "      <td>0</td>\n",
       "      <td>0</td>\n",
       "      <td>0</td>\n",
       "      <td>0</td>\n",
       "      <td>0</td>\n",
       "      <td>0</td>\n",
       "      <td>0</td>\n",
       "      <td>negative</td>\n",
       "    </tr>\n",
       "    <tr>\n",
       "      <th>4</th>\n",
       "      <td>3.0</td>\n",
       "      <td>0</td>\n",
       "      <td>1</td>\n",
       "      <td>0</td>\n",
       "      <td>0</td>\n",
       "      <td>1</td>\n",
       "      <td>0</td>\n",
       "      <td>0</td>\n",
       "      <td>1</td>\n",
       "      <td>0</td>\n",
       "      <td>...</td>\n",
       "      <td>0</td>\n",
       "      <td>1</td>\n",
       "      <td>0</td>\n",
       "      <td>0</td>\n",
       "      <td>0</td>\n",
       "      <td>0</td>\n",
       "      <td>0</td>\n",
       "      <td>0</td>\n",
       "      <td>0</td>\n",
       "      <td>negative</td>\n",
       "    </tr>\n",
       "  </tbody>\n",
       "</table>\n",
       "<p>5 rows × 336 columns</p>\n",
       "</div>"
      ],
      "text/plain": [
       "   0    1    2    3     4    5    6    7    8   9    ...     326          327  \\\n",
       "0  NaN   11   14   20  2022   22   24   26  269  2⁰  ...  voltou  voluntários   \n",
       "1  0.0    0    0    1     0    0    0    0    0   0  ...       1            0   \n",
       "2  1.0    0    0    0     0    0    0    0    0   0  ...       0            0   \n",
       "3  2.0    0    0    0     0    0    0    0    0   0  ...       0            0   \n",
       "4  3.0    0    1    0     0    1    0    0    1   0  ...       0            1   \n",
       "\n",
       "     328    329    330    331     332    333     334       335  \n",
       "0  votar  votos  votou  vídeo  xandão  youtu  índios   Cluster  \n",
       "1      1      0      1      0       0      0       0  negative  \n",
       "2      0      0      0      0       0      0       0  negative  \n",
       "3      0      0      0      0       0      0       0  negative  \n",
       "4      0      0      0      0       0      0       0  negative  \n",
       "\n",
       "[5 rows x 336 columns]"
      ]
     },
     "execution_count": 3,
     "metadata": {},
     "output_type": "execute_result"
    }
   ],
   "source": [
    "# Importando dataset de dados de treino da vetorização TF:\n",
    "dados_treino_tf = pd.read_csv(\"tweets_vetorizados_tf_novos_agrupados.csv\", sep = \",\", header = None)\n",
    "dados_treino_tf.head(5)"
   ]
  },
  {
   "cell_type": "code",
   "execution_count": 4,
   "metadata": {},
   "outputs": [
    {
     "data": {
      "text/html": [
       "<div>\n",
       "<style scoped>\n",
       "    .dataframe tbody tr th:only-of-type {\n",
       "        vertical-align: middle;\n",
       "    }\n",
       "\n",
       "    .dataframe tbody tr th {\n",
       "        vertical-align: top;\n",
       "    }\n",
       "\n",
       "    .dataframe thead tr th {\n",
       "        text-align: left;\n",
       "    }\n",
       "</style>\n",
       "<table border=\"1\" class=\"dataframe\">\n",
       "  <thead>\n",
       "    <tr>\n",
       "      <th></th>\n",
       "      <th>NaN</th>\n",
       "      <th>11</th>\n",
       "      <th>14</th>\n",
       "      <th>20</th>\n",
       "      <th>2022</th>\n",
       "      <th>22</th>\n",
       "      <th>24</th>\n",
       "      <th>26</th>\n",
       "      <th>269</th>\n",
       "      <th>2⁰</th>\n",
       "      <th>...</th>\n",
       "      <th>voltou</th>\n",
       "      <th>voluntários</th>\n",
       "      <th>votar</th>\n",
       "      <th>votos</th>\n",
       "      <th>votou</th>\n",
       "      <th>vídeo</th>\n",
       "      <th>xandão</th>\n",
       "      <th>youtu</th>\n",
       "      <th>índios</th>\n",
       "      <th>Cluster</th>\n",
       "    </tr>\n",
       "  </thead>\n",
       "  <tbody>\n",
       "    <tr>\n",
       "      <th>1</th>\n",
       "      <td>0.0</td>\n",
       "      <td>0</td>\n",
       "      <td>0</td>\n",
       "      <td>1</td>\n",
       "      <td>0</td>\n",
       "      <td>0</td>\n",
       "      <td>0</td>\n",
       "      <td>0</td>\n",
       "      <td>0</td>\n",
       "      <td>0</td>\n",
       "      <td>...</td>\n",
       "      <td>1</td>\n",
       "      <td>0</td>\n",
       "      <td>1</td>\n",
       "      <td>0</td>\n",
       "      <td>1</td>\n",
       "      <td>0</td>\n",
       "      <td>0</td>\n",
       "      <td>0</td>\n",
       "      <td>0</td>\n",
       "      <td>negative</td>\n",
       "    </tr>\n",
       "    <tr>\n",
       "      <th>2</th>\n",
       "      <td>1.0</td>\n",
       "      <td>0</td>\n",
       "      <td>0</td>\n",
       "      <td>0</td>\n",
       "      <td>0</td>\n",
       "      <td>0</td>\n",
       "      <td>0</td>\n",
       "      <td>0</td>\n",
       "      <td>0</td>\n",
       "      <td>0</td>\n",
       "      <td>...</td>\n",
       "      <td>0</td>\n",
       "      <td>0</td>\n",
       "      <td>0</td>\n",
       "      <td>0</td>\n",
       "      <td>0</td>\n",
       "      <td>0</td>\n",
       "      <td>0</td>\n",
       "      <td>0</td>\n",
       "      <td>0</td>\n",
       "      <td>negative</td>\n",
       "    </tr>\n",
       "    <tr>\n",
       "      <th>3</th>\n",
       "      <td>2.0</td>\n",
       "      <td>0</td>\n",
       "      <td>0</td>\n",
       "      <td>0</td>\n",
       "      <td>0</td>\n",
       "      <td>0</td>\n",
       "      <td>0</td>\n",
       "      <td>0</td>\n",
       "      <td>0</td>\n",
       "      <td>0</td>\n",
       "      <td>...</td>\n",
       "      <td>0</td>\n",
       "      <td>0</td>\n",
       "      <td>0</td>\n",
       "      <td>0</td>\n",
       "      <td>0</td>\n",
       "      <td>0</td>\n",
       "      <td>0</td>\n",
       "      <td>0</td>\n",
       "      <td>0</td>\n",
       "      <td>negative</td>\n",
       "    </tr>\n",
       "    <tr>\n",
       "      <th>4</th>\n",
       "      <td>3.0</td>\n",
       "      <td>0</td>\n",
       "      <td>1</td>\n",
       "      <td>0</td>\n",
       "      <td>0</td>\n",
       "      <td>1</td>\n",
       "      <td>0</td>\n",
       "      <td>0</td>\n",
       "      <td>1</td>\n",
       "      <td>0</td>\n",
       "      <td>...</td>\n",
       "      <td>0</td>\n",
       "      <td>1</td>\n",
       "      <td>0</td>\n",
       "      <td>0</td>\n",
       "      <td>0</td>\n",
       "      <td>0</td>\n",
       "      <td>0</td>\n",
       "      <td>0</td>\n",
       "      <td>0</td>\n",
       "      <td>negative</td>\n",
       "    </tr>\n",
       "    <tr>\n",
       "      <th>5</th>\n",
       "      <td>4.0</td>\n",
       "      <td>1</td>\n",
       "      <td>0</td>\n",
       "      <td>0</td>\n",
       "      <td>0</td>\n",
       "      <td>1</td>\n",
       "      <td>0</td>\n",
       "      <td>1</td>\n",
       "      <td>0</td>\n",
       "      <td>0</td>\n",
       "      <td>...</td>\n",
       "      <td>0</td>\n",
       "      <td>0</td>\n",
       "      <td>0</td>\n",
       "      <td>0</td>\n",
       "      <td>0</td>\n",
       "      <td>1</td>\n",
       "      <td>0</td>\n",
       "      <td>0</td>\n",
       "      <td>0</td>\n",
       "      <td>negative</td>\n",
       "    </tr>\n",
       "  </tbody>\n",
       "</table>\n",
       "<p>5 rows × 336 columns</p>\n",
       "</div>"
      ],
      "text/plain": [
       "0  NaN 11 14 20 2022 22 24 26 269 2⁰  ... voltou voluntários votar votos  \\\n",
       "1  0.0  0  0  1    0  0  0  0   0  0  ...      1           0     1     0   \n",
       "2  1.0  0  0  0    0  0  0  0   0  0  ...      0           0     0     0   \n",
       "3  2.0  0  0  0    0  0  0  0   0  0  ...      0           0     0     0   \n",
       "4  3.0  0  1  0    0  1  0  0   1  0  ...      0           1     0     0   \n",
       "5  4.0  1  0  0    0  1  0  1   0  0  ...      0           0     0     0   \n",
       "\n",
       "0 votou vídeo xandão youtu índios   Cluster  \n",
       "1     1     0      0     0      0  negative  \n",
       "2     0     0      0     0      0  negative  \n",
       "3     0     0      0     0      0  negative  \n",
       "4     0     0      0     0      0  negative  \n",
       "5     0     1      0     0      0  negative  \n",
       "\n",
       "[5 rows x 336 columns]"
      ]
     },
     "execution_count": 4,
     "metadata": {},
     "output_type": "execute_result"
    }
   ],
   "source": [
    "# Separação dos dados:\n",
    "dados_treino_tf.columns = [dados_treino_tf.loc[0]]\n",
    "dados_treino_tf = dados_treino_tf.drop(dados_treino_tf.index [[0]])\n",
    "dados_treino_tf.head(5)"
   ]
  },
  {
   "cell_type": "code",
   "execution_count": 5,
   "metadata": {},
   "outputs": [
    {
     "data": {
      "text/html": [
       "<div>\n",
       "<style scoped>\n",
       "    .dataframe tbody tr th:only-of-type {\n",
       "        vertical-align: middle;\n",
       "    }\n",
       "\n",
       "    .dataframe tbody tr th {\n",
       "        vertical-align: top;\n",
       "    }\n",
       "\n",
       "    .dataframe thead th {\n",
       "        text-align: right;\n",
       "    }\n",
       "</style>\n",
       "<table border=\"1\" class=\"dataframe\">\n",
       "  <thead>\n",
       "    <tr style=\"text-align: right;\">\n",
       "      <th></th>\n",
       "      <th>0</th>\n",
       "      <th>1</th>\n",
       "      <th>2</th>\n",
       "      <th>3</th>\n",
       "      <th>4</th>\n",
       "      <th>5</th>\n",
       "      <th>6</th>\n",
       "      <th>7</th>\n",
       "      <th>8</th>\n",
       "      <th>9</th>\n",
       "      <th>...</th>\n",
       "      <th>326</th>\n",
       "      <th>327</th>\n",
       "      <th>328</th>\n",
       "      <th>329</th>\n",
       "      <th>330</th>\n",
       "      <th>331</th>\n",
       "      <th>332</th>\n",
       "      <th>333</th>\n",
       "      <th>334</th>\n",
       "      <th>335</th>\n",
       "    </tr>\n",
       "  </thead>\n",
       "  <tbody>\n",
       "    <tr>\n",
       "      <th>0</th>\n",
       "      <td>NaN</td>\n",
       "      <td>11.0</td>\n",
       "      <td>14.000000</td>\n",
       "      <td>20.000000</td>\n",
       "      <td>2022.0</td>\n",
       "      <td>22.000000</td>\n",
       "      <td>24.0</td>\n",
       "      <td>26.0</td>\n",
       "      <td>269.000000</td>\n",
       "      <td>2⁰</td>\n",
       "      <td>...</td>\n",
       "      <td>voltou</td>\n",
       "      <td>voluntários</td>\n",
       "      <td>votar</td>\n",
       "      <td>votos</td>\n",
       "      <td>votou</td>\n",
       "      <td>vídeo</td>\n",
       "      <td>xandão</td>\n",
       "      <td>youtu</td>\n",
       "      <td>índios</td>\n",
       "      <td>Cluster</td>\n",
       "    </tr>\n",
       "    <tr>\n",
       "      <th>1</th>\n",
       "      <td>0.0</td>\n",
       "      <td>NaN</td>\n",
       "      <td>NaN</td>\n",
       "      <td>0.281786</td>\n",
       "      <td>NaN</td>\n",
       "      <td>NaN</td>\n",
       "      <td>NaN</td>\n",
       "      <td>NaN</td>\n",
       "      <td>NaN</td>\n",
       "      <td>NaN</td>\n",
       "      <td>...</td>\n",
       "      <td>0.2817858340273836</td>\n",
       "      <td>NaN</td>\n",
       "      <td>0.2817858340273836</td>\n",
       "      <td>NaN</td>\n",
       "      <td>0.2817858340273836</td>\n",
       "      <td>NaN</td>\n",
       "      <td>NaN</td>\n",
       "      <td>NaN</td>\n",
       "      <td>NaN</td>\n",
       "      <td>negative</td>\n",
       "    </tr>\n",
       "    <tr>\n",
       "      <th>2</th>\n",
       "      <td>1.0</td>\n",
       "      <td>NaN</td>\n",
       "      <td>NaN</td>\n",
       "      <td>NaN</td>\n",
       "      <td>NaN</td>\n",
       "      <td>NaN</td>\n",
       "      <td>NaN</td>\n",
       "      <td>NaN</td>\n",
       "      <td>NaN</td>\n",
       "      <td>NaN</td>\n",
       "      <td>...</td>\n",
       "      <td>NaN</td>\n",
       "      <td>NaN</td>\n",
       "      <td>NaN</td>\n",
       "      <td>NaN</td>\n",
       "      <td>NaN</td>\n",
       "      <td>NaN</td>\n",
       "      <td>NaN</td>\n",
       "      <td>NaN</td>\n",
       "      <td>NaN</td>\n",
       "      <td>negative</td>\n",
       "    </tr>\n",
       "    <tr>\n",
       "      <th>3</th>\n",
       "      <td>2.0</td>\n",
       "      <td>NaN</td>\n",
       "      <td>NaN</td>\n",
       "      <td>NaN</td>\n",
       "      <td>NaN</td>\n",
       "      <td>NaN</td>\n",
       "      <td>NaN</td>\n",
       "      <td>NaN</td>\n",
       "      <td>NaN</td>\n",
       "      <td>NaN</td>\n",
       "      <td>...</td>\n",
       "      <td>NaN</td>\n",
       "      <td>NaN</td>\n",
       "      <td>NaN</td>\n",
       "      <td>NaN</td>\n",
       "      <td>NaN</td>\n",
       "      <td>NaN</td>\n",
       "      <td>NaN</td>\n",
       "      <td>NaN</td>\n",
       "      <td>NaN</td>\n",
       "      <td>negative</td>\n",
       "    </tr>\n",
       "    <tr>\n",
       "      <th>4</th>\n",
       "      <td>3.0</td>\n",
       "      <td>NaN</td>\n",
       "      <td>0.188782</td>\n",
       "      <td>NaN</td>\n",
       "      <td>NaN</td>\n",
       "      <td>0.090386</td>\n",
       "      <td>NaN</td>\n",
       "      <td>NaN</td>\n",
       "      <td>0.188782</td>\n",
       "      <td>NaN</td>\n",
       "      <td>...</td>\n",
       "      <td>NaN</td>\n",
       "      <td>0.1887824589501638</td>\n",
       "      <td>NaN</td>\n",
       "      <td>NaN</td>\n",
       "      <td>NaN</td>\n",
       "      <td>NaN</td>\n",
       "      <td>NaN</td>\n",
       "      <td>NaN</td>\n",
       "      <td>NaN</td>\n",
       "      <td>negative</td>\n",
       "    </tr>\n",
       "  </tbody>\n",
       "</table>\n",
       "<p>5 rows × 336 columns</p>\n",
       "</div>"
      ],
      "text/plain": [
       "   0     1          2          3       4          5     6     7           8    \\\n",
       "0  NaN  11.0  14.000000  20.000000  2022.0  22.000000  24.0  26.0  269.000000   \n",
       "1  0.0   NaN        NaN   0.281786     NaN        NaN   NaN   NaN         NaN   \n",
       "2  1.0   NaN        NaN        NaN     NaN        NaN   NaN   NaN         NaN   \n",
       "3  2.0   NaN        NaN        NaN     NaN        NaN   NaN   NaN         NaN   \n",
       "4  3.0   NaN   0.188782        NaN     NaN   0.090386   NaN   NaN    0.188782   \n",
       "\n",
       "   9    ...                 326                 327                 328  \\\n",
       "0   2⁰  ...              voltou         voluntários               votar   \n",
       "1  NaN  ...  0.2817858340273836                 NaN  0.2817858340273836   \n",
       "2  NaN  ...                 NaN                 NaN                 NaN   \n",
       "3  NaN  ...                 NaN                 NaN                 NaN   \n",
       "4  NaN  ...                 NaN  0.1887824589501638                 NaN   \n",
       "\n",
       "     329                 330    331     332    333     334       335  \n",
       "0  votos               votou  vídeo  xandão  youtu  índios   Cluster  \n",
       "1    NaN  0.2817858340273836    NaN     NaN    NaN     NaN  negative  \n",
       "2    NaN                 NaN    NaN     NaN    NaN     NaN  negative  \n",
       "3    NaN                 NaN    NaN     NaN    NaN     NaN  negative  \n",
       "4    NaN                 NaN    NaN     NaN    NaN     NaN  negative  \n",
       "\n",
       "[5 rows x 336 columns]"
      ]
     },
     "execution_count": 5,
     "metadata": {},
     "output_type": "execute_result"
    }
   ],
   "source": [
    "# Importando dataset de dados de treino da vetorização IDF:\n",
    "dados_treino_idf = pd.read_csv(\"tweets_vetorizados_idf_novos_agrupados.csv\", sep = \",\", header = None)\n",
    "dados_treino_idf.head(5)"
   ]
  },
  {
   "cell_type": "code",
   "execution_count": 6,
   "metadata": {},
   "outputs": [
    {
     "data": {
      "text/html": [
       "<div>\n",
       "<style scoped>\n",
       "    .dataframe tbody tr th:only-of-type {\n",
       "        vertical-align: middle;\n",
       "    }\n",
       "\n",
       "    .dataframe tbody tr th {\n",
       "        vertical-align: top;\n",
       "    }\n",
       "\n",
       "    .dataframe thead tr th {\n",
       "        text-align: left;\n",
       "    }\n",
       "</style>\n",
       "<table border=\"1\" class=\"dataframe\">\n",
       "  <thead>\n",
       "    <tr>\n",
       "      <th></th>\n",
       "      <th>NaN</th>\n",
       "      <th>11.0</th>\n",
       "      <th>14.0</th>\n",
       "      <th>20.0</th>\n",
       "      <th>2022.0</th>\n",
       "      <th>22.0</th>\n",
       "      <th>24.0</th>\n",
       "      <th>26.0</th>\n",
       "      <th>269.0</th>\n",
       "      <th>2⁰</th>\n",
       "      <th>...</th>\n",
       "      <th>voltou</th>\n",
       "      <th>voluntários</th>\n",
       "      <th>votar</th>\n",
       "      <th>votos</th>\n",
       "      <th>votou</th>\n",
       "      <th>vídeo</th>\n",
       "      <th>xandão</th>\n",
       "      <th>youtu</th>\n",
       "      <th>índios</th>\n",
       "      <th>Cluster</th>\n",
       "    </tr>\n",
       "  </thead>\n",
       "  <tbody>\n",
       "    <tr>\n",
       "      <th>1</th>\n",
       "      <td>0.0</td>\n",
       "      <td>NaN</td>\n",
       "      <td>NaN</td>\n",
       "      <td>0.281786</td>\n",
       "      <td>NaN</td>\n",
       "      <td>NaN</td>\n",
       "      <td>NaN</td>\n",
       "      <td>NaN</td>\n",
       "      <td>NaN</td>\n",
       "      <td>NaN</td>\n",
       "      <td>...</td>\n",
       "      <td>0.2817858340273836</td>\n",
       "      <td>NaN</td>\n",
       "      <td>0.2817858340273836</td>\n",
       "      <td>NaN</td>\n",
       "      <td>0.2817858340273836</td>\n",
       "      <td>NaN</td>\n",
       "      <td>NaN</td>\n",
       "      <td>NaN</td>\n",
       "      <td>NaN</td>\n",
       "      <td>negative</td>\n",
       "    </tr>\n",
       "    <tr>\n",
       "      <th>2</th>\n",
       "      <td>1.0</td>\n",
       "      <td>NaN</td>\n",
       "      <td>NaN</td>\n",
       "      <td>NaN</td>\n",
       "      <td>NaN</td>\n",
       "      <td>NaN</td>\n",
       "      <td>NaN</td>\n",
       "      <td>NaN</td>\n",
       "      <td>NaN</td>\n",
       "      <td>NaN</td>\n",
       "      <td>...</td>\n",
       "      <td>NaN</td>\n",
       "      <td>NaN</td>\n",
       "      <td>NaN</td>\n",
       "      <td>NaN</td>\n",
       "      <td>NaN</td>\n",
       "      <td>NaN</td>\n",
       "      <td>NaN</td>\n",
       "      <td>NaN</td>\n",
       "      <td>NaN</td>\n",
       "      <td>negative</td>\n",
       "    </tr>\n",
       "    <tr>\n",
       "      <th>3</th>\n",
       "      <td>2.0</td>\n",
       "      <td>NaN</td>\n",
       "      <td>NaN</td>\n",
       "      <td>NaN</td>\n",
       "      <td>NaN</td>\n",
       "      <td>NaN</td>\n",
       "      <td>NaN</td>\n",
       "      <td>NaN</td>\n",
       "      <td>NaN</td>\n",
       "      <td>NaN</td>\n",
       "      <td>...</td>\n",
       "      <td>NaN</td>\n",
       "      <td>NaN</td>\n",
       "      <td>NaN</td>\n",
       "      <td>NaN</td>\n",
       "      <td>NaN</td>\n",
       "      <td>NaN</td>\n",
       "      <td>NaN</td>\n",
       "      <td>NaN</td>\n",
       "      <td>NaN</td>\n",
       "      <td>negative</td>\n",
       "    </tr>\n",
       "    <tr>\n",
       "      <th>4</th>\n",
       "      <td>3.0</td>\n",
       "      <td>NaN</td>\n",
       "      <td>0.188782</td>\n",
       "      <td>NaN</td>\n",
       "      <td>NaN</td>\n",
       "      <td>0.090386</td>\n",
       "      <td>NaN</td>\n",
       "      <td>NaN</td>\n",
       "      <td>0.188782</td>\n",
       "      <td>NaN</td>\n",
       "      <td>...</td>\n",
       "      <td>NaN</td>\n",
       "      <td>0.1887824589501638</td>\n",
       "      <td>NaN</td>\n",
       "      <td>NaN</td>\n",
       "      <td>NaN</td>\n",
       "      <td>NaN</td>\n",
       "      <td>NaN</td>\n",
       "      <td>NaN</td>\n",
       "      <td>NaN</td>\n",
       "      <td>negative</td>\n",
       "    </tr>\n",
       "    <tr>\n",
       "      <th>5</th>\n",
       "      <td>4.0</td>\n",
       "      <td>0.102834</td>\n",
       "      <td>NaN</td>\n",
       "      <td>NaN</td>\n",
       "      <td>NaN</td>\n",
       "      <td>0.082830</td>\n",
       "      <td>NaN</td>\n",
       "      <td>0.157122</td>\n",
       "      <td>NaN</td>\n",
       "      <td>NaN</td>\n",
       "      <td>...</td>\n",
       "      <td>NaN</td>\n",
       "      <td>NaN</td>\n",
       "      <td>NaN</td>\n",
       "      <td>NaN</td>\n",
       "      <td>NaN</td>\n",
       "      <td>0.1730002790668289</td>\n",
       "      <td>NaN</td>\n",
       "      <td>NaN</td>\n",
       "      <td>NaN</td>\n",
       "      <td>negative</td>\n",
       "    </tr>\n",
       "  </tbody>\n",
       "</table>\n",
       "<p>5 rows × 336 columns</p>\n",
       "</div>"
      ],
      "text/plain": [
       "0  NaN      11.0      14.0      20.0 2022.0      22.0 24.0      26.0  \\\n",
       "1  0.0       NaN       NaN  0.281786    NaN       NaN  NaN       NaN   \n",
       "2  1.0       NaN       NaN       NaN    NaN       NaN  NaN       NaN   \n",
       "3  2.0       NaN       NaN       NaN    NaN       NaN  NaN       NaN   \n",
       "4  3.0       NaN  0.188782       NaN    NaN  0.090386  NaN       NaN   \n",
       "5  4.0  0.102834       NaN       NaN    NaN  0.082830  NaN  0.157122   \n",
       "\n",
       "0     269.0   2⁰  ...              voltou         voluntários  \\\n",
       "1       NaN  NaN  ...  0.2817858340273836                 NaN   \n",
       "2       NaN  NaN  ...                 NaN                 NaN   \n",
       "3       NaN  NaN  ...                 NaN                 NaN   \n",
       "4  0.188782  NaN  ...                 NaN  0.1887824589501638   \n",
       "5       NaN  NaN  ...                 NaN                 NaN   \n",
       "\n",
       "0               votar votos               votou               vídeo xandão  \\\n",
       "1  0.2817858340273836   NaN  0.2817858340273836                 NaN    NaN   \n",
       "2                 NaN   NaN                 NaN                 NaN    NaN   \n",
       "3                 NaN   NaN                 NaN                 NaN    NaN   \n",
       "4                 NaN   NaN                 NaN                 NaN    NaN   \n",
       "5                 NaN   NaN                 NaN  0.1730002790668289    NaN   \n",
       "\n",
       "0 youtu índios   Cluster  \n",
       "1   NaN    NaN  negative  \n",
       "2   NaN    NaN  negative  \n",
       "3   NaN    NaN  negative  \n",
       "4   NaN    NaN  negative  \n",
       "5   NaN    NaN  negative  \n",
       "\n",
       "[5 rows x 336 columns]"
      ]
     },
     "execution_count": 6,
     "metadata": {},
     "output_type": "execute_result"
    }
   ],
   "source": [
    "# Separação dos dados:\n",
    "dados_treino_idf.columns = [dados_treino_idf.loc[0]]\n",
    "dados_treino_idf = dados_treino_idf.drop(dados_treino_idf.index [[0]])\n",
    "dados_treino_idf.head(5)"
   ]
  },
  {
   "cell_type": "code",
   "execution_count": 7,
   "metadata": {},
   "outputs": [
    {
     "data": {
      "text/html": [
       "<div>\n",
       "<style scoped>\n",
       "    .dataframe tbody tr th:only-of-type {\n",
       "        vertical-align: middle;\n",
       "    }\n",
       "\n",
       "    .dataframe tbody tr th {\n",
       "        vertical-align: top;\n",
       "    }\n",
       "\n",
       "    .dataframe thead th {\n",
       "        text-align: right;\n",
       "    }\n",
       "</style>\n",
       "<table border=\"1\" class=\"dataframe\">\n",
       "  <thead>\n",
       "    <tr style=\"text-align: right;\">\n",
       "      <th></th>\n",
       "      <th>0</th>\n",
       "      <th>1</th>\n",
       "      <th>2</th>\n",
       "      <th>3</th>\n",
       "      <th>4</th>\n",
       "      <th>5</th>\n",
       "      <th>6</th>\n",
       "      <th>7</th>\n",
       "      <th>8</th>\n",
       "      <th>9</th>\n",
       "      <th>...</th>\n",
       "      <th>326</th>\n",
       "      <th>327</th>\n",
       "      <th>328</th>\n",
       "      <th>329</th>\n",
       "      <th>330</th>\n",
       "      <th>331</th>\n",
       "      <th>332</th>\n",
       "      <th>333</th>\n",
       "      <th>334</th>\n",
       "      <th>335</th>\n",
       "    </tr>\n",
       "  </thead>\n",
       "  <tbody>\n",
       "    <tr>\n",
       "      <th>0</th>\n",
       "      <td>NaN</td>\n",
       "      <td>11.0</td>\n",
       "      <td>14.000000</td>\n",
       "      <td>20.000000</td>\n",
       "      <td>2022.0</td>\n",
       "      <td>22.000000</td>\n",
       "      <td>24.0</td>\n",
       "      <td>26.0</td>\n",
       "      <td>269.000000</td>\n",
       "      <td>2⁰</td>\n",
       "      <td>...</td>\n",
       "      <td>voltou</td>\n",
       "      <td>voluntários</td>\n",
       "      <td>votar</td>\n",
       "      <td>votos</td>\n",
       "      <td>votou</td>\n",
       "      <td>vídeo</td>\n",
       "      <td>xandão</td>\n",
       "      <td>youtu</td>\n",
       "      <td>índios</td>\n",
       "      <td>Cluster</td>\n",
       "    </tr>\n",
       "    <tr>\n",
       "      <th>1</th>\n",
       "      <td>0.0</td>\n",
       "      <td>0.0</td>\n",
       "      <td>0.000000</td>\n",
       "      <td>0.281786</td>\n",
       "      <td>0.0</td>\n",
       "      <td>0.000000</td>\n",
       "      <td>0.0</td>\n",
       "      <td>0.0</td>\n",
       "      <td>0.000000</td>\n",
       "      <td>0.0</td>\n",
       "      <td>...</td>\n",
       "      <td>0.2817858340273836</td>\n",
       "      <td>0.0</td>\n",
       "      <td>0.2817858340273836</td>\n",
       "      <td>0.0</td>\n",
       "      <td>0.2817858340273836</td>\n",
       "      <td>0.0</td>\n",
       "      <td>0.0</td>\n",
       "      <td>0.0</td>\n",
       "      <td>0.0</td>\n",
       "      <td>negative</td>\n",
       "    </tr>\n",
       "    <tr>\n",
       "      <th>2</th>\n",
       "      <td>1.0</td>\n",
       "      <td>0.0</td>\n",
       "      <td>0.000000</td>\n",
       "      <td>0.000000</td>\n",
       "      <td>0.0</td>\n",
       "      <td>0.000000</td>\n",
       "      <td>0.0</td>\n",
       "      <td>0.0</td>\n",
       "      <td>0.000000</td>\n",
       "      <td>0.0</td>\n",
       "      <td>...</td>\n",
       "      <td>0.0</td>\n",
       "      <td>0.0</td>\n",
       "      <td>0.0</td>\n",
       "      <td>0.0</td>\n",
       "      <td>0.0</td>\n",
       "      <td>0.0</td>\n",
       "      <td>0.0</td>\n",
       "      <td>0.0</td>\n",
       "      <td>0.0</td>\n",
       "      <td>negative</td>\n",
       "    </tr>\n",
       "    <tr>\n",
       "      <th>3</th>\n",
       "      <td>2.0</td>\n",
       "      <td>0.0</td>\n",
       "      <td>0.000000</td>\n",
       "      <td>0.000000</td>\n",
       "      <td>0.0</td>\n",
       "      <td>0.000000</td>\n",
       "      <td>0.0</td>\n",
       "      <td>0.0</td>\n",
       "      <td>0.000000</td>\n",
       "      <td>0.0</td>\n",
       "      <td>...</td>\n",
       "      <td>0.0</td>\n",
       "      <td>0.0</td>\n",
       "      <td>0.0</td>\n",
       "      <td>0.0</td>\n",
       "      <td>0.0</td>\n",
       "      <td>0.0</td>\n",
       "      <td>0.0</td>\n",
       "      <td>0.0</td>\n",
       "      <td>0.0</td>\n",
       "      <td>negative</td>\n",
       "    </tr>\n",
       "    <tr>\n",
       "      <th>4</th>\n",
       "      <td>3.0</td>\n",
       "      <td>0.0</td>\n",
       "      <td>0.188782</td>\n",
       "      <td>0.000000</td>\n",
       "      <td>0.0</td>\n",
       "      <td>0.090386</td>\n",
       "      <td>0.0</td>\n",
       "      <td>0.0</td>\n",
       "      <td>0.188782</td>\n",
       "      <td>0.0</td>\n",
       "      <td>...</td>\n",
       "      <td>0.0</td>\n",
       "      <td>0.1887824589501638</td>\n",
       "      <td>0.0</td>\n",
       "      <td>0.0</td>\n",
       "      <td>0.0</td>\n",
       "      <td>0.0</td>\n",
       "      <td>0.0</td>\n",
       "      <td>0.0</td>\n",
       "      <td>0.0</td>\n",
       "      <td>negative</td>\n",
       "    </tr>\n",
       "  </tbody>\n",
       "</table>\n",
       "<p>5 rows × 336 columns</p>\n",
       "</div>"
      ],
      "text/plain": [
       "   0     1          2          3       4          5     6     7           8    \\\n",
       "0  NaN  11.0  14.000000  20.000000  2022.0  22.000000  24.0  26.0  269.000000   \n",
       "1  0.0   0.0   0.000000   0.281786     0.0   0.000000   0.0   0.0    0.000000   \n",
       "2  1.0   0.0   0.000000   0.000000     0.0   0.000000   0.0   0.0    0.000000   \n",
       "3  2.0   0.0   0.000000   0.000000     0.0   0.000000   0.0   0.0    0.000000   \n",
       "4  3.0   0.0   0.188782   0.000000     0.0   0.090386   0.0   0.0    0.188782   \n",
       "\n",
       "   9    ...                 326                 327                 328  \\\n",
       "0   2⁰  ...              voltou         voluntários               votar   \n",
       "1  0.0  ...  0.2817858340273836                 0.0  0.2817858340273836   \n",
       "2  0.0  ...                 0.0                 0.0                 0.0   \n",
       "3  0.0  ...                 0.0                 0.0                 0.0   \n",
       "4  0.0  ...                 0.0  0.1887824589501638                 0.0   \n",
       "\n",
       "     329                 330    331     332    333     334       335  \n",
       "0  votos               votou  vídeo  xandão  youtu  índios   Cluster  \n",
       "1    0.0  0.2817858340273836    0.0     0.0    0.0     0.0  negative  \n",
       "2    0.0                 0.0    0.0     0.0    0.0     0.0  negative  \n",
       "3    0.0                 0.0    0.0     0.0    0.0     0.0  negative  \n",
       "4    0.0                 0.0    0.0     0.0    0.0     0.0  negative  \n",
       "\n",
       "[5 rows x 336 columns]"
      ]
     },
     "execution_count": 7,
     "metadata": {},
     "output_type": "execute_result"
    }
   ],
   "source": [
    "# Importando dataset de dados de treino da vetorização TF_IDF:\n",
    "dados_treino_tf_idf = pd.read_csv(\"tweets_vetorizados_tf_idf_novos_agrupados.csv\", sep = \",\", header = None)\n",
    "dados_treino_tf_idf.head(5)"
   ]
  },
  {
   "cell_type": "code",
   "execution_count": 8,
   "metadata": {},
   "outputs": [
    {
     "data": {
      "text/html": [
       "<div>\n",
       "<style scoped>\n",
       "    .dataframe tbody tr th:only-of-type {\n",
       "        vertical-align: middle;\n",
       "    }\n",
       "\n",
       "    .dataframe tbody tr th {\n",
       "        vertical-align: top;\n",
       "    }\n",
       "\n",
       "    .dataframe thead tr th {\n",
       "        text-align: left;\n",
       "    }\n",
       "</style>\n",
       "<table border=\"1\" class=\"dataframe\">\n",
       "  <thead>\n",
       "    <tr>\n",
       "      <th></th>\n",
       "      <th>NaN</th>\n",
       "      <th>11.0</th>\n",
       "      <th>14.0</th>\n",
       "      <th>20.0</th>\n",
       "      <th>2022.0</th>\n",
       "      <th>22.0</th>\n",
       "      <th>24.0</th>\n",
       "      <th>26.0</th>\n",
       "      <th>269.0</th>\n",
       "      <th>2⁰</th>\n",
       "      <th>...</th>\n",
       "      <th>voltou</th>\n",
       "      <th>voluntários</th>\n",
       "      <th>votar</th>\n",
       "      <th>votos</th>\n",
       "      <th>votou</th>\n",
       "      <th>vídeo</th>\n",
       "      <th>xandão</th>\n",
       "      <th>youtu</th>\n",
       "      <th>índios</th>\n",
       "      <th>Cluster</th>\n",
       "    </tr>\n",
       "  </thead>\n",
       "  <tbody>\n",
       "    <tr>\n",
       "      <th>1</th>\n",
       "      <td>0.0</td>\n",
       "      <td>0.000000</td>\n",
       "      <td>0.000000</td>\n",
       "      <td>0.281786</td>\n",
       "      <td>0.0</td>\n",
       "      <td>0.000000</td>\n",
       "      <td>0.0</td>\n",
       "      <td>0.000000</td>\n",
       "      <td>0.000000</td>\n",
       "      <td>0.0</td>\n",
       "      <td>...</td>\n",
       "      <td>0.2817858340273836</td>\n",
       "      <td>0.0</td>\n",
       "      <td>0.2817858340273836</td>\n",
       "      <td>0.0</td>\n",
       "      <td>0.2817858340273836</td>\n",
       "      <td>0.0</td>\n",
       "      <td>0.0</td>\n",
       "      <td>0.0</td>\n",
       "      <td>0.0</td>\n",
       "      <td>negative</td>\n",
       "    </tr>\n",
       "    <tr>\n",
       "      <th>2</th>\n",
       "      <td>1.0</td>\n",
       "      <td>0.000000</td>\n",
       "      <td>0.000000</td>\n",
       "      <td>0.000000</td>\n",
       "      <td>0.0</td>\n",
       "      <td>0.000000</td>\n",
       "      <td>0.0</td>\n",
       "      <td>0.000000</td>\n",
       "      <td>0.000000</td>\n",
       "      <td>0.0</td>\n",
       "      <td>...</td>\n",
       "      <td>0.0</td>\n",
       "      <td>0.0</td>\n",
       "      <td>0.0</td>\n",
       "      <td>0.0</td>\n",
       "      <td>0.0</td>\n",
       "      <td>0.0</td>\n",
       "      <td>0.0</td>\n",
       "      <td>0.0</td>\n",
       "      <td>0.0</td>\n",
       "      <td>negative</td>\n",
       "    </tr>\n",
       "    <tr>\n",
       "      <th>3</th>\n",
       "      <td>2.0</td>\n",
       "      <td>0.000000</td>\n",
       "      <td>0.000000</td>\n",
       "      <td>0.000000</td>\n",
       "      <td>0.0</td>\n",
       "      <td>0.000000</td>\n",
       "      <td>0.0</td>\n",
       "      <td>0.000000</td>\n",
       "      <td>0.000000</td>\n",
       "      <td>0.0</td>\n",
       "      <td>...</td>\n",
       "      <td>0.0</td>\n",
       "      <td>0.0</td>\n",
       "      <td>0.0</td>\n",
       "      <td>0.0</td>\n",
       "      <td>0.0</td>\n",
       "      <td>0.0</td>\n",
       "      <td>0.0</td>\n",
       "      <td>0.0</td>\n",
       "      <td>0.0</td>\n",
       "      <td>negative</td>\n",
       "    </tr>\n",
       "    <tr>\n",
       "      <th>4</th>\n",
       "      <td>3.0</td>\n",
       "      <td>0.000000</td>\n",
       "      <td>0.188782</td>\n",
       "      <td>0.000000</td>\n",
       "      <td>0.0</td>\n",
       "      <td>0.090386</td>\n",
       "      <td>0.0</td>\n",
       "      <td>0.000000</td>\n",
       "      <td>0.188782</td>\n",
       "      <td>0.0</td>\n",
       "      <td>...</td>\n",
       "      <td>0.0</td>\n",
       "      <td>0.1887824589501638</td>\n",
       "      <td>0.0</td>\n",
       "      <td>0.0</td>\n",
       "      <td>0.0</td>\n",
       "      <td>0.0</td>\n",
       "      <td>0.0</td>\n",
       "      <td>0.0</td>\n",
       "      <td>0.0</td>\n",
       "      <td>negative</td>\n",
       "    </tr>\n",
       "    <tr>\n",
       "      <th>5</th>\n",
       "      <td>4.0</td>\n",
       "      <td>0.102834</td>\n",
       "      <td>0.000000</td>\n",
       "      <td>0.000000</td>\n",
       "      <td>0.0</td>\n",
       "      <td>0.082830</td>\n",
       "      <td>0.0</td>\n",
       "      <td>0.157122</td>\n",
       "      <td>0.000000</td>\n",
       "      <td>0.0</td>\n",
       "      <td>...</td>\n",
       "      <td>0.0</td>\n",
       "      <td>0.0</td>\n",
       "      <td>0.0</td>\n",
       "      <td>0.0</td>\n",
       "      <td>0.0</td>\n",
       "      <td>0.1730002790668289</td>\n",
       "      <td>0.0</td>\n",
       "      <td>0.0</td>\n",
       "      <td>0.0</td>\n",
       "      <td>negative</td>\n",
       "    </tr>\n",
       "  </tbody>\n",
       "</table>\n",
       "<p>5 rows × 336 columns</p>\n",
       "</div>"
      ],
      "text/plain": [
       "0  NaN      11.0      14.0      20.0 2022.0      22.0 24.0      26.0  \\\n",
       "1  0.0  0.000000  0.000000  0.281786    0.0  0.000000  0.0  0.000000   \n",
       "2  1.0  0.000000  0.000000  0.000000    0.0  0.000000  0.0  0.000000   \n",
       "3  2.0  0.000000  0.000000  0.000000    0.0  0.000000  0.0  0.000000   \n",
       "4  3.0  0.000000  0.188782  0.000000    0.0  0.090386  0.0  0.000000   \n",
       "5  4.0  0.102834  0.000000  0.000000    0.0  0.082830  0.0  0.157122   \n",
       "\n",
       "0     269.0   2⁰  ...              voltou         voluntários  \\\n",
       "1  0.000000  0.0  ...  0.2817858340273836                 0.0   \n",
       "2  0.000000  0.0  ...                 0.0                 0.0   \n",
       "3  0.000000  0.0  ...                 0.0                 0.0   \n",
       "4  0.188782  0.0  ...                 0.0  0.1887824589501638   \n",
       "5  0.000000  0.0  ...                 0.0                 0.0   \n",
       "\n",
       "0               votar votos               votou               vídeo xandão  \\\n",
       "1  0.2817858340273836   0.0  0.2817858340273836                 0.0    0.0   \n",
       "2                 0.0   0.0                 0.0                 0.0    0.0   \n",
       "3                 0.0   0.0                 0.0                 0.0    0.0   \n",
       "4                 0.0   0.0                 0.0                 0.0    0.0   \n",
       "5                 0.0   0.0                 0.0  0.1730002790668289    0.0   \n",
       "\n",
       "0 youtu índios   Cluster  \n",
       "1   0.0    0.0  negative  \n",
       "2   0.0    0.0  negative  \n",
       "3   0.0    0.0  negative  \n",
       "4   0.0    0.0  negative  \n",
       "5   0.0    0.0  negative  \n",
       "\n",
       "[5 rows x 336 columns]"
      ]
     },
     "execution_count": 8,
     "metadata": {},
     "output_type": "execute_result"
    }
   ],
   "source": [
    "# Separação dos dados:\n",
    "dados_treino_tf_idf.columns = [dados_treino_tf_idf.loc[0]]\n",
    "dados_treino_tf_idf = dados_treino_tf_idf.drop(dados_treino_tf_idf.index [[0]])\n",
    "dados_treino_tf_idf.head(5)"
   ]
  },
  {
   "cell_type": "markdown",
   "metadata": {},
   "source": [
    "## Modelo de Regressão Logística (Logistic Regression)"
   ]
  },
  {
   "cell_type": "markdown",
   "metadata": {},
   "source": [
    "### TF"
   ]
  },
  {
   "cell_type": "code",
   "execution_count": 9,
   "metadata": {},
   "outputs": [],
   "source": [
    "variaveis_preditoras = dados_treino_tf.drop(['Cluster'], axis=1).values\n",
    "variavel_predicao = dados_treino_tf['Cluster'].values\n",
    "variaveis_preditoras_treino, variaveis_preditoras_teste, variavel_predicao_treino, variavel_predicao_teste = train_test_split(variaveis_preditoras, variavel_predicao, test_size = 0.3, random_state = 4)\n",
    "\n",
    "# Criação e treino do modelo de Regressão Logística:\n",
    "modelo_tf = LogisticRegression(penalty = 'l2', C = 1e42, solver = 'liblinear')\n",
    "modelo_tf.fit(variaveis_preditoras_treino, variavel_predicao_treino)\n",
    "predicao_regressao_logistica = modelo_tf.predict(variaveis_preditoras)"
   ]
  },
  {
   "cell_type": "code",
   "execution_count": 10,
   "metadata": {},
   "outputs": [
    {
     "name": "stdout",
     "output_type": "stream",
     "text": [
      "Resultados do modelo:\n",
      " [0.5 0.5 1.  1.  1.  1.  1.  1.  1.  1. ]\n",
      "\n",
      "Média dos resultados: 0.9\n",
      "\n",
      "Predições feitas:\n",
      " ['negative' 'negative' 'negative' 'negative' 'neutral' 'negative'\n",
      " 'negative' 'negative' 'negative' 'negative' 'negative' 'neutral'\n",
      " 'neutral' 'neutral' 'neutral' 'neutral' 'neutral' 'neutral' 'neutral'\n",
      " 'neutral' 'neutral' 'neutral' 'positive' 'positive' 'positive' 'positive'\n",
      " 'positive' 'positive' 'positive' 'positive' 'positive' 'positive'\n",
      " 'positive' 'positive' 'positive' 'positive' 'negative' 'negative'\n",
      " 'negative' 'negative' 'negative' 'negative' 'negative' 'negative'\n",
      " 'negative' 'negative' 'negative' 'negative' 'negative' 'negative'\n",
      " 'negative' 'negative' 'negative' 'negative' 'negative' 'negative'\n",
      " 'negative' 'negative' 'negative' 'negative']\n"
     ]
    }
   ],
   "source": [
    "# Aplicação da validação cruzada K-Fold:\n",
    "validacao_kfold = KFold(10)\n",
    "resultado_tf = cross_val_score(modelo_tf, variaveis_preditoras_teste, variavel_predicao_teste, cv = validacao_kfold)\n",
    "\n",
    "# Exibição dos resultados da validação:\n",
    "print('Resultados do modelo:\\n', resultado_tf)\n",
    "print('\\nMédia dos resultados:', np.mean(resultado_tf))\n",
    "print('\\nPredições feitas:\\n', predicao_regressao_logistica)"
   ]
  },
  {
   "cell_type": "code",
   "execution_count": 11,
   "metadata": {},
   "outputs": [
    {
     "name": "stdout",
     "output_type": "stream",
     "text": [
      "Matriz de confusão:\n"
     ]
    },
    {
     "data": {
      "text/plain": [
       "<AxesSubplot:>"
      ]
     },
     "execution_count": 11,
     "metadata": {},
     "output_type": "execute_result"
    },
    {
     "data": {
      "image/png": "[encoded data removed]",
      "text/plain": [
       "<Figure size 432x288 with 2 Axes>"
      ]
     },
     "metadata": {
      "needs_background": "light"
     },
     "output_type": "display_data"
    }
   ],
   "source": [
    "# Criação da matriz de confusão:\n",
    "print('Matriz de confusão:')\n",
    "matriz_confusao_tf = confusion_matrix(variavel_predicao, modelo_tf.predict(variaveis_preditoras))\n",
    "sn.heatmap(matriz_confusao_tf, annot=True)"
   ]
  },
  {
   "cell_type": "code",
   "execution_count": 12,
   "metadata": {},
   "outputs": [
    {
     "name": "stdout",
     "output_type": "stream",
     "text": [
      "Revocação (Recall):  0.9714285714285714 \n",
      "\n",
      "Precisão (Precision):  1.0 \n",
      "\n",
      "Especificidade (Specificity):  1.0 \n",
      "\n",
      "F1 Macro:  0.9806763285024154 \n",
      "\n",
      "F1 Micro:  0.9833333333333333\n"
     ]
    }
   ],
   "source": [
    "# Exibição das métricas de avaliação do modelo:\n",
    "print('Revocação (Recall): ', matriz_confusao_tf[0, 0] / sum(matriz_confusao_tf[0, :]), '\\n')\n",
    "print('Precisão (Precision): ', matriz_confusao_tf[0, 0] / sum(matriz_confusao_tf[:, 0]), '\\n')\n",
    "print('Especificidade (Specificity): ', matriz_confusao_tf[1, 1] / sum(matriz_confusao_tf[1, :]), '\\n')\n",
    "print('F1 Macro: ', f1_score(variavel_predicao, modelo_tf.predict(variaveis_preditoras), average='macro'), '\\n')\n",
    "print('F1 Micro: ', f1_score(variavel_predicao, modelo_tf.predict(variaveis_preditoras), average='micro'))"
   ]
  },
  {
   "cell_type": "markdown",
   "metadata": {},
   "source": [
    "### IDF"
   ]
  },
  {
   "cell_type": "code",
   "execution_count": 13,
   "metadata": {},
   "outputs": [],
   "source": [
    "dados_treino_idf = dados_treino_idf.replace(np.nan, 0)\n",
    "\n",
    "variaveis_preditoras = dados_treino_idf.drop(['Cluster'], axis=1).values\n",
    "variavel_predicao = dados_treino_tf['Cluster'].values\n",
    "\n",
    "variaveis_preditoras_treino, variaveis_preditoras_teste, variavel_predicao_treino, variavel_predicao_teste = train_test_split(variaveis_preditoras, variavel_predicao, test_size = 0.3, random_state = 4)\n",
    "\n",
    "# Criação e treino do modelo de Regressão Logística:\n",
    "modelo_idf = LogisticRegression(penalty = 'l2', C = 1e42, solver = 'liblinear')\n",
    "modelo_idf.fit(variaveis_preditoras_treino, variavel_predicao_treino)\n",
    "predicao_regressao_logistica = modelo_idf.predict(variaveis_preditoras)"
   ]
  },
  {
   "cell_type": "code",
   "execution_count": 14,
   "metadata": {},
   "outputs": [
    {
     "name": "stdout",
     "output_type": "stream",
     "text": [
      "Resultados do modelo:\n",
      " [1. 1. 1. 1. 1. 1. 1. 1. 1. 1.]\n",
      "\n",
      "Média dos resultados: 1.0\n",
      "\n",
      "Predições feitas:\n",
      " ['negative' 'negative' 'negative' 'negative' 'negative' 'negative'\n",
      " 'negative' 'negative' 'negative' 'negative' 'negative' 'neutral'\n",
      " 'neutral' 'neutral' 'neutral' 'neutral' 'neutral' 'neutral' 'neutral'\n",
      " 'neutral' 'neutral' 'neutral' 'positive' 'positive' 'positive' 'positive'\n",
      " 'positive' 'positive' 'positive' 'positive' 'positive' 'positive'\n",
      " 'positive' 'positive' 'positive' 'positive' 'negative' 'negative'\n",
      " 'negative' 'negative' 'negative' 'negative' 'negative' 'negative'\n",
      " 'negative' 'negative' 'negative' 'negative' 'negative' 'negative'\n",
      " 'negative' 'negative' 'negative' 'negative' 'negative' 'negative'\n",
      " 'negative' 'negative' 'negative' 'negative']\n"
     ]
    }
   ],
   "source": [
    "# Aplicação da validação cruzada K-Fold:\n",
    "validacao_kfold = KFold(10)\n",
    "resultado_idf = cross_val_score(modelo_idf, variaveis_preditoras_teste, variavel_predicao_teste, cv = validacao_kfold)\n",
    "\n",
    "# Exibição dos resultados da validação:\n",
    "print('Resultados do modelo:\\n', resultado_idf)\n",
    "print('\\nMédia dos resultados:', np.mean(resultado_idf))\n",
    "print('\\nPredições feitas:\\n', predicao_regressao_logistica)"
   ]
  },
  {
   "cell_type": "code",
   "execution_count": 15,
   "metadata": {},
   "outputs": [
    {
     "name": "stdout",
     "output_type": "stream",
     "text": [
      "Matriz de confusão:\n"
     ]
    },
    {
     "data": {
      "text/plain": [
       "<AxesSubplot:>"
      ]
     },
     "execution_count": 15,
     "metadata": {},
     "output_type": "execute_result"
    },
    {
     "data": {
      "image/png": "[encoded data removed]",
      "text/plain": [
       "<Figure size 432x288 with 2 Axes>"
      ]
     },
     "metadata": {
      "needs_background": "light"
     },
     "output_type": "display_data"
    }
   ],
   "source": [
    "# Criação da matriz de confusão:\n",
    "print('Matriz de confusão:')\n",
    "matriz_confusao_idf = confusion_matrix(variavel_predicao, modelo_idf.predict(variaveis_preditoras))\n",
    "sn.heatmap(matriz_confusao_idf, annot=True)"
   ]
  },
  {
   "cell_type": "code",
   "execution_count": 16,
   "metadata": {},
   "outputs": [
    {
     "name": "stdout",
     "output_type": "stream",
     "text": [
      "Revocação (Recall):  1.0 \n",
      "\n",
      "Precisão (Precision):  1.0 \n",
      "\n",
      "Especificidade (Specificity):  1.0 \n",
      "\n",
      "F1 Macro:  1.0 \n",
      "\n",
      "F1 Micro:  1.0\n"
     ]
    }
   ],
   "source": [
    "# Exibição das métricas de avaliação do modelo:\n",
    "print('Revocação (Recall): ', matriz_confusao_idf[0, 0] / sum(matriz_confusao_idf[0, :]), '\\n')\n",
    "print('Precisão (Precision): ', matriz_confusao_idf[0, 0] / sum(matriz_confusao_idf[:, 0]), '\\n')\n",
    "print('Especificidade (Specificity): ', matriz_confusao_idf[1, 1] / sum(matriz_confusao_idf[1, :]), '\\n')\n",
    "print('F1 Macro: ', f1_score(variavel_predicao, modelo_idf.predict(variaveis_preditoras), average='macro'), '\\n')\n",
    "print('F1 Micro: ', f1_score(variavel_predicao, modelo_idf.predict(variaveis_preditoras), average='micro'))"
   ]
  },
  {
   "cell_type": "markdown",
   "metadata": {},
   "source": [
    "### TF-IDF"
   ]
  },
  {
   "cell_type": "code",
   "execution_count": 17,
   "metadata": {},
   "outputs": [],
   "source": [
    "variaveis_preditoras = dados_treino_tf_idf.drop(['Cluster'], axis=1).values\n",
    "variavel_predicao = dados_treino_tf['Cluster'].values\n",
    "\n",
    "variaveis_preditoras_treino, variaveis_preditoras_teste, variavel_predicao_treino, variavel_predicao_teste = train_test_split(variaveis_preditoras, variavel_predicao, test_size = 0.3, random_state = 4)\n",
    "\n",
    "# Criação e treino do modelo de Regressão Logística:\n",
    "modelo_tf_idf = LogisticRegression(penalty = 'l2', C = 1e42, solver = 'liblinear')\n",
    "modelo_tf_idf.fit(variaveis_preditoras_treino, variavel_predicao_treino)\n",
    "predicao_regressao_logistica = modelo_tf_idf.predict(variaveis_preditoras)"
   ]
  },
  {
   "cell_type": "code",
   "execution_count": 18,
   "metadata": {},
   "outputs": [
    {
     "name": "stdout",
     "output_type": "stream",
     "text": [
      "Resultados do modelo:\n",
      " [0.5 1.  1.  1.  1.  1.  1.  1.  1.  1. ]\n",
      "\n",
      "Média dos resultados: 0.95\n",
      "\n",
      "Predições feitas:\n",
      " ['negative' 'negative' 'negative' 'negative' 'negative' 'negative'\n",
      " 'negative' 'negative' 'negative' 'negative' 'negative' 'neutral'\n",
      " 'neutral' 'neutral' 'neutral' 'neutral' 'neutral' 'neutral' 'neutral'\n",
      " 'neutral' 'neutral' 'neutral' 'positive' 'positive' 'positive' 'positive'\n",
      " 'positive' 'positive' 'positive' 'positive' 'positive' 'positive'\n",
      " 'positive' 'positive' 'positive' 'positive' 'negative' 'negative'\n",
      " 'negative' 'negative' 'negative' 'negative' 'negative' 'negative'\n",
      " 'negative' 'negative' 'negative' 'negative' 'negative' 'negative'\n",
      " 'negative' 'negative' 'negative' 'negative' 'negative' 'negative'\n",
      " 'negative' 'negative' 'negative' 'negative']\n"
     ]
    }
   ],
   "source": [
    "# Aplicação da validação cruzada K-Fold:\n",
    "validacao_kfold = KFold(10)\n",
    "resultado_tf_idf = cross_val_score(modelo_idf, variaveis_preditoras_teste, variavel_predicao_teste, cv = validacao_kfold)\n",
    "\n",
    "# Exibição dos resultados da validação:\n",
    "print('Resultados do modelo:\\n', resultado_tf_idf)\n",
    "print('\\nMédia dos resultados:', np.mean(resultado_tf_idf))\n",
    "print('\\nPredições feitas:\\n', predicao_regressao_logistica)"
   ]
  },
  {
   "cell_type": "code",
   "execution_count": 19,
   "metadata": {},
   "outputs": [
    {
     "name": "stdout",
     "output_type": "stream",
     "text": [
      "Matriz de confusão:\n"
     ]
    },
    {
     "data": {
      "text/plain": [
       "<AxesSubplot:>"
      ]
     },
     "execution_count": 19,
     "metadata": {},
     "output_type": "execute_result"
    },
    {
     "data": {
      "image/png": "[encoded data removed]",
      "text/plain": [
       "<Figure size 432x288 with 2 Axes>"
      ]
     },
     "metadata": {
      "needs_background": "light"
     },
     "output_type": "display_data"
    }
   ],
   "source": [
    "# Criação da matriz de confusão:\n",
    "print('Matriz de confusão:')\n",
    "matriz_confusao_tf_idf = confusion_matrix(variavel_predicao, modelo_idf.predict(variaveis_preditoras))\n",
    "sn.heatmap(matriz_confusao_tf_idf, annot=True)"
   ]
  },
  {
   "cell_type": "code",
   "execution_count": 20,
   "metadata": {},
   "outputs": [
    {
     "name": "stdout",
     "output_type": "stream",
     "text": [
      "Revocação (Recall):  1.0 \n",
      "\n",
      "Precisão (Precision):  1.0 \n",
      "\n",
      "Especificidade (Specificity):  1.0 \n",
      "\n",
      "F1 Macro:  1.0 \n",
      "\n",
      "F1 Micro:  1.0\n"
     ]
    }
   ],
   "source": [
    "# Exibição das métricas de avaliação do modelo:\n",
    "print('Revocação (Recall): ', matriz_confusao_tf_idf[0, 0] / sum(matriz_confusao_tf_idf[0, :]), '\\n')\n",
    "print('Precisão (Precision): ', matriz_confusao_tf_idf[0, 0] / sum(matriz_confusao_tf_idf[:, 0]), '\\n')\n",
    "print('Especificidade (Specificity): ', matriz_confusao_tf_idf[1, 1] / sum(matriz_confusao_tf_idf[1, :]), '\\n')\n",
    "print('F1 Macro: ', f1_score(variavel_predicao, modelo_idf.predict(variaveis_preditoras), average='macro'), '\\n')\n",
    "print('F1 Micro: ', f1_score(variavel_predicao, modelo_idf.predict(variaveis_preditoras), average='micro'))"
   ]
  },
  {
   "cell_type": "markdown",
   "metadata": {},
   "source": [
    "## Modelo Naive Bayes"
   ]
  },
  {
   "cell_type": "markdown",
   "metadata": {},
   "source": [
    "### TF"
   ]
  },
  {
   "cell_type": "code",
   "execution_count": 21,
   "metadata": {},
   "outputs": [
    {
     "name": "stdout",
     "output_type": "stream",
     "text": [
      "Resultados do modelo:\n",
      " [0.5 0.5 1.  1.  1.  1.  1.  1.  1.  1. ]\n",
      "\n",
      "Média dos resultados: 0.9\n",
      "\n",
      "Predições feitas:\n",
      " ['negative' 'negative' 'negative' 'negative' 'neutral' 'negative'\n",
      " 'negative' 'negative' 'negative' 'negative' 'negative' 'neutral'\n",
      " 'neutral' 'neutral' 'neutral' 'neutral' 'neutral' 'neutral' 'neutral'\n",
      " 'neutral' 'neutral' 'neutral' 'positive' 'positive' 'positive' 'positive'\n",
      " 'positive' 'positive' 'positive' 'positive' 'positive' 'positive'\n",
      " 'positive' 'positive' 'positive' 'positive' 'negative' 'negative'\n",
      " 'negative' 'negative' 'negative' 'negative' 'negative' 'negative'\n",
      " 'negative' 'negative' 'neutral' 'negative' 'negative' 'negative'\n",
      " 'negative' 'negative' 'negative' 'negative' 'negative' 'negative'\n",
      " 'neutral' 'negative' 'negative' 'neutral']\n"
     ]
    }
   ],
   "source": [
    "# Separação dos dados para teste e treino:\n",
    "variaveis_preditoras = dados_treino_tf.drop(['Cluster'], axis=1).values\n",
    "variavel_predicao = dados_treino_tf['Cluster'].values\n",
    "variaveis_preditoras_treino, variaveis_preditoras_teste, variavel_predicao_treino, variavel_predicao_teste = train_test_split(variaveis_preditoras, variavel_predicao, test_size = 0.3, random_state = 4)\n",
    "\n",
    "# Criação e treino do modelo Naive Bayes:\n",
    "modelo_tf = MultinomialNB(alpha=0.01, fit_prior=True)\n",
    "modelo_tf.fit(variaveis_preditoras_treino, variavel_predicao_treino)\n",
    "predicao_naive_bayes = modelo_tf.predict(variaveis_preditoras)\n",
    "\n",
    "# Aplicação da validação cruzada K-Fold:\n",
    "validacao_kfold = KFold(10)\n",
    "resultado_tf = cross_val_score(modelo_idf, variaveis_preditoras_teste, variavel_predicao_teste, cv = validacao_kfold)\n",
    "\n",
    "# Exibição dos resultados da validação:\n",
    "print('Resultados do modelo:\\n', resultado_tf)\n",
    "print('\\nMédia dos resultados:', np.mean(resultado_tf))\n",
    "print('\\nPredições feitas:\\n', predicao_naive_bayes)"
   ]
  },
  {
   "cell_type": "code",
   "execution_count": 22,
   "metadata": {},
   "outputs": [
    {
     "name": "stdout",
     "output_type": "stream",
     "text": [
      "Matriz de confusão:\n"
     ]
    },
    {
     "data": {
      "text/plain": [
       "<AxesSubplot:>"
      ]
     },
     "execution_count": 22,
     "metadata": {},
     "output_type": "execute_result"
    },
    {
     "data": {
      "image/png": "[encoded data removed]",
      "text/plain": [
       "<Figure size 432x288 with 2 Axes>"
      ]
     },
     "metadata": {
      "needs_background": "light"
     },
     "output_type": "display_data"
    }
   ],
   "source": [
    "# Criação da matriz de confusão:\n",
    "print('Matriz de confusão:')\n",
    "matriz_confusao_tf = confusion_matrix(variavel_predicao, modelo_idf.predict(variaveis_preditoras))\n",
    "sn.heatmap(matriz_confusao_tf, annot=True)"
   ]
  },
  {
   "cell_type": "code",
   "execution_count": 23,
   "metadata": {},
   "outputs": [
    {
     "name": "stdout",
     "output_type": "stream",
     "text": [
      "Revocação (Recall):  0.8571428571428571 \n",
      "\n",
      "Precisão (Precision):  1.0 \n",
      "\n",
      "Especificidade (Specificity):  1.0 \n",
      "\n",
      "F1 Macro:  0.9143231320650674 \n",
      "\n",
      "F1 Micro:  0.9166666666666666\n"
     ]
    }
   ],
   "source": [
    "# Exibição das métricas de avaliação do modelo:\n",
    "print('Revocação (Recall): ', matriz_confusao_tf[0, 0] / sum(matriz_confusao_tf[0, :]), '\\n')\n",
    "print('Precisão (Precision): ', matriz_confusao_tf[0, 0] / sum(matriz_confusao_tf[:, 0]), '\\n')\n",
    "print('Especificidade (Specificity): ', matriz_confusao_tf[1, 1] / sum(matriz_confusao_tf[1, :]), '\\n')\n",
    "print('F1 Macro: ', f1_score(variavel_predicao, modelo_idf.predict(variaveis_preditoras), average='macro'), '\\n')\n",
    "print('F1 Micro: ', f1_score(variavel_predicao, modelo_idf.predict(variaveis_preditoras), average='micro'))"
   ]
  },
  {
   "cell_type": "markdown",
   "metadata": {},
   "source": [
    "### IDF"
   ]
  },
  {
   "cell_type": "code",
   "execution_count": 24,
   "metadata": {},
   "outputs": [
    {
     "name": "stdout",
     "output_type": "stream",
     "text": [
      "Resultados do modelo:\n",
      " [0.5 0.5 1.  1.  1.  1.  1.  1.  1.  1. ]\n",
      "\n",
      "Média dos resultados: 0.9\n",
      "\n",
      "Predições feitas:\n",
      " ['negative' 'negative' 'negative' 'negative' 'neutral' 'negative'\n",
      " 'negative' 'negative' 'negative' 'negative' 'negative' 'neutral'\n",
      " 'neutral' 'neutral' 'neutral' 'neutral' 'neutral' 'neutral' 'neutral'\n",
      " 'neutral' 'neutral' 'neutral' 'positive' 'positive' 'positive' 'positive'\n",
      " 'positive' 'positive' 'positive' 'positive' 'positive' 'positive'\n",
      " 'positive' 'positive' 'positive' 'positive' 'negative' 'negative'\n",
      " 'negative' 'negative' 'negative' 'negative' 'negative' 'negative'\n",
      " 'negative' 'negative' 'negative' 'negative' 'negative' 'negative'\n",
      " 'negative' 'negative' 'negative' 'negative' 'negative' 'negative'\n",
      " 'negative' 'negative' 'negative' 'negative']\n"
     ]
    }
   ],
   "source": [
    "dados_treino_idf = dados_treino_idf.replace(np.nan, 0)\n",
    "\n",
    "# Separação dos dados para teste e treino:\n",
    "variaveis_preditoras = dados_treino_idf.drop(['Cluster'], axis=1).values\n",
    "variavel_predicao = dados_treino_tf['Cluster'].values\n",
    "variaveis_preditoras_treino, variaveis_preditoras_teste, variavel_predicao_treino, variavel_predicao_teste = train_test_split(variaveis_preditoras, variavel_predicao, test_size = 0.3, random_state = 4)\n",
    "\n",
    "# Criação e treino do modelo Naive Bayes:\n",
    "modelo_idf = MultinomialNB(alpha=0.01, fit_prior=True)\n",
    "modelo_idf.fit(variaveis_preditoras_treino, variavel_predicao_treino)\n",
    "predicao_naive_bayes = modelo_idf.predict(variaveis_preditoras)\n",
    "\n",
    "# Aplicação da validação cruzada K-Fold:\n",
    "validacao_kfold = KFold(10)\n",
    "resultado_idf = cross_val_score(modelo_idf, variaveis_preditoras_teste, variavel_predicao_teste, cv = validacao_kfold)\n",
    "\n",
    "# Exibição dos resultados da validação:\n",
    "print('Resultados do modelo:\\n', resultado_idf)\n",
    "print('\\nMédia dos resultados:', np.mean(resultado_idf))\n",
    "print('\\nPredições feitas:\\n', predicao_naive_bayes)"
   ]
  },
  {
   "cell_type": "code",
   "execution_count": 25,
   "metadata": {},
   "outputs": [
    {
     "name": "stdout",
     "output_type": "stream",
     "text": [
      "Matriz de confusão:\n"
     ]
    },
    {
     "data": {
      "text/plain": [
       "<AxesSubplot:>"
      ]
     },
     "execution_count": 25,
     "metadata": {},
     "output_type": "execute_result"
    },
    {
     "data": {
      "image/png": "[encoded data removed]",
      "text/plain": [
       "<Figure size 432x288 with 2 Axes>"
      ]
     },
     "metadata": {
      "needs_background": "light"
     },
     "output_type": "display_data"
    }
   ],
   "source": [
    "# Criação da matriz de confusão:\n",
    "print('Matriz de confusão:')\n",
    "matriz_confusao_idf = confusion_matrix(variavel_predicao, modelo_idf.predict(variaveis_preditoras))\n",
    "sn.heatmap(matriz_confusao_idf, annot=True)"
   ]
  },
  {
   "cell_type": "code",
   "execution_count": 26,
   "metadata": {},
   "outputs": [
    {
     "name": "stdout",
     "output_type": "stream",
     "text": [
      "Revocação (Recall):  0.9714285714285714 \n",
      "\n",
      "Precisão (Precision):  1.0 \n",
      "\n",
      "Especificidade (Specificity):  1.0 \n",
      "\n",
      "F1 Macro:  0.9806763285024154 \n",
      "\n",
      "F1 Micro:  0.9833333333333333\n"
     ]
    }
   ],
   "source": [
    "# Exibição das métricas de avaliação do modelo:\n",
    "print('Revocação (Recall): ', matriz_confusao_idf[0, 0] / sum(matriz_confusao_idf[0, :]), '\\n')\n",
    "print('Precisão (Precision): ', matriz_confusao_idf[0, 0] / sum(matriz_confusao_idf[:, 0]), '\\n')\n",
    "print('Especificidade (Specificity): ', matriz_confusao_idf[1, 1] / sum(matriz_confusao_idf[1, :]), '\\n')\n",
    "print('F1 Macro: ', f1_score(variavel_predicao, modelo_idf.predict(variaveis_preditoras), average='macro'), '\\n')\n",
    "print('F1 Micro: ', f1_score(variavel_predicao, modelo_idf.predict(variaveis_preditoras), average='micro'))"
   ]
  },
  {
   "cell_type": "markdown",
   "metadata": {},
   "source": [
    "### TF-IDF"
   ]
  },
  {
   "cell_type": "code",
   "execution_count": 27,
   "metadata": {},
   "outputs": [
    {
     "name": "stdout",
     "output_type": "stream",
     "text": [
      "Resultados do modelo: \n",
      " [0.5 0.5 1.  1.  1.  1.  1.  1.  1.  1. ]\n",
      "\n",
      "Média dos resultados:  0.9\n",
      "\n",
      "Predições feitas: \n",
      " ['negative' 'negative' 'negative' 'negative' 'neutral' 'negative'\n",
      " 'negative' 'negative' 'negative' 'negative' 'negative' 'neutral'\n",
      " 'neutral' 'neutral' 'neutral' 'neutral' 'neutral' 'neutral' 'neutral'\n",
      " 'neutral' 'neutral' 'neutral' 'positive' 'positive' 'positive' 'positive'\n",
      " 'positive' 'positive' 'positive' 'positive' 'positive' 'positive'\n",
      " 'positive' 'positive' 'positive' 'positive' 'negative' 'negative'\n",
      " 'negative' 'negative' 'negative' 'negative' 'negative' 'negative'\n",
      " 'negative' 'negative' 'negative' 'negative' 'negative' 'negative'\n",
      " 'negative' 'negative' 'negative' 'negative' 'negative' 'negative'\n",
      " 'neutral' 'negative' 'negative' 'negative']\n"
     ]
    }
   ],
   "source": [
    "# Separação dos dados para teste e treino:\n",
    "variaveis_preditoras = dados_treino_tf_idf.drop(['Cluster'], axis=1).values\n",
    "variavel_predicao = dados_treino_tf['Cluster'].values\n",
    "variaveis_preditoras_treino, variaveis_preditoras_teste, variavel_predicao_treino, variavel_predicao_teste = train_test_split(variaveis_preditoras, variavel_predicao, test_size = 0.3, random_state = 4)\n",
    "\n",
    "# Criação e treino do modelo Naive Bayes:\n",
    "modelo_tf_idf = MultinomialNB(alpha=0.01, fit_prior=True)\n",
    "modelo_tf_idf.fit(variaveis_preditoras_treino, variavel_predicao_treino)\n",
    "predicao_naive_bayes = modelo_tf_idf.predict(variaveis_preditoras)\n",
    "\n",
    "# Aplicação da validação cruzada K-Fold:\n",
    "validacao_kfold = KFold(10)\n",
    "resultado_tf_idf = cross_val_score(modelo_idf, variaveis_preditoras_teste, variavel_predicao_teste, cv = validacao_kfold)\n",
    "\n",
    "# Exibição dos resultados da validação:\n",
    "print('Resultados do modelo: \\n', resultado_tf_idf)\n",
    "print('\\nMédia dos resultados: ', np.mean(resultado_tf_idf))\n",
    "print('\\nPredições feitas: \\n', predicao_naive_bayes)"
   ]
  },
  {
   "cell_type": "code",
   "execution_count": 28,
   "metadata": {},
   "outputs": [
    {
     "name": "stdout",
     "output_type": "stream",
     "text": [
      "Matriz de confusão:\n"
     ]
    },
    {
     "data": {
      "text/plain": [
       "<AxesSubplot:>"
      ]
     },
     "execution_count": 28,
     "metadata": {},
     "output_type": "execute_result"
    },
    {
     "data": {
      "image/png": "[encoded data removed]",
      "text/plain": [
       "<Figure size 432x288 with 2 Axes>"
      ]
     },
     "metadata": {
      "needs_background": "light"
     },
     "output_type": "display_data"
    }
   ],
   "source": [
    "# Criação da matriz de confusão:\n",
    "print('Matriz de confusão:')\n",
    "matriz_confusao_tf_idf = confusion_matrix(variavel_predicao, modelo_idf.predict(variaveis_preditoras))\n",
    "sn.heatmap(matriz_confusao_tf_idf, annot=True)"
   ]
  },
  {
   "cell_type": "code",
   "execution_count": 29,
   "metadata": {
    "scrolled": true
   },
   "outputs": [
    {
     "name": "stdout",
     "output_type": "stream",
     "text": [
      "Revocação (Recall):  0.9428571428571428 \n",
      "\n",
      "Precisão (Precision):  1.0 \n",
      "\n",
      "Especificidade (Specificity):  1.0 \n",
      "\n",
      "F1 Macro:  0.9624183006535948 \n",
      "\n",
      "F1 Micro:  0.9666666666666667\n"
     ]
    }
   ],
   "source": [
    "# Exibição das métricas de avaliação do modelo:\n",
    "print('Revocação (Recall): ', matriz_confusao_tf_idf[0, 0] / sum(matriz_confusao_tf_idf[0, :]), '\\n')\n",
    "print('Precisão (Precision): ', matriz_confusao_tf_idf[0, 0] / sum(matriz_confusao_tf_idf[:, 0]), '\\n')\n",
    "print('Especificidade (Specificity): ', matriz_confusao_tf_idf[1, 1] / sum(matriz_confusao_tf_idf[1, :]), '\\n')\n",
    "print('F1 Macro: ', f1_score(variavel_predicao, modelo_idf.predict(variaveis_preditoras), average='macro'), '\\n')\n",
    "print('F1 Micro: ', f1_score(variavel_predicao, modelo_idf.predict(variaveis_preditoras), average='micro'))"
   ]
  },
  {
   "cell_type": "markdown",
   "metadata": {},
   "source": [
    "## Regressão Logistica - Conclusões"
   ]
  },
  {
   "cell_type": "markdown",
   "metadata": {},
   "source": [
    "Pelos os resultados o modelo de regressão logistica aparenta ser excelente com os modelos TF e TF-IDF, com o Recall e a Precisão em 1.0; a especificidade indica que toda parte das amostras negativas foram classificadas como falsas, apresentando nenhuma como positiva. As F1 Macro e Micro nos mostra que o modelo está predigindo os verdadeiros e falsos de forma correta, com uma boa taxa de acerto.\n"
   ]
  },
  {
   "cell_type": "markdown",
   "metadata": {},
   "source": [
    "Já o modelo de TF, demostrou ser exelente também, porém com a Revocação (Recall) menor que a de DF e TF-IDF. Outras metrícas que\n",
    "foram ambiguas, foram as de F1 MACRO e MICRO, mas também com uma boa taxa de acerto 0.980 Macro e 0.983 Micro"
   ]
  },
  {
   "cell_type": "markdown",
   "metadata": {},
   "source": [
    "## Naive Bayes"
   ]
  },
  {
   "cell_type": "markdown",
   "metadata": {},
   "source": [
    "O Naive Bayes demostrou uma excelente precisão para os modelos TF,IDF e TF-IDF, apresentando uma precisão e especificação de 1.0, que é considerado perfeito. Porém, cada modelo obteve valores diferentes nas metricas restantes.\n",
    "O IDF foi o modelo que se saiu melhor. Demostrou um Recall de 0.97, ou seja dentre todas as situações de classe Positiva como valor esperado, verificou quantas estavam corretas (0.97-1.0). Já o F1 Macro e Micro, apresentou 0.980 para o Macro, que é a média das somas de cada amostra e para o Micro, apresentou 0.983 que foi a média global da soma dos que são realmente \"Positivos\", os realmente \"Negativos\" e os \"Neutros\"."
   ]
  },
  {
   "cell_type": "code",
   "execution_count": null,
   "metadata": {},
   "outputs": [],
   "source": []
  }
 ],
 "metadata": {
  "kernelspec": {
   "display_name": "Python 3 (ipykernel)",
   "language": "python",
   "name": "python3"
  },
  "language_info": {
   "codemirror_mode": {
    "name": "ipython",
    "version": 3
   },
   "file_extension": ".py",
   "mimetype": "text/x-python",
   "name": "python",
   "nbconvert_exporter": "python",
   "pygments_lexer": "ipython3",
   "version": "3.9.12"
  },
  "vscode": {
   "interpreter": {
    "hash": "e7370f93d1d0cde622a1f8e1c04877d8463912d04d973331ad4851f04de6915a"
   }
  }
 },
 "nbformat": 4,
 "nbformat_minor": 2
}
