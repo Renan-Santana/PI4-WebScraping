{
 "cells": [
  {
   "cell_type": "code",
   "execution_count": null,
   "metadata": {},
   "outputs": [],
   "source": [
    "import pandas as pd\n",
    "import numpy as np\n",
    "import DataFrame\n",
    "from sklearn.feature_extraction.text import TfidfVectorizer\n",
    "from sklearn.feature_extraction.text import CountVectorizer"
   ]
  },
  {
   "cell_type": "code",
   "execution_count": null,
   "metadata": {},
   "outputs": [],
   "source": [
    "# TF\n",
    "\n",
    "tweets_limpos = DataFrame.cria_df()\n",
    "vetor_cont = CountVectorizer()\n",
    "matrix_contador = vetor_cont.fit_transform(tweets_limpos)\n",
    "vetor_contador = matrix_contador.toarray()\n",
    "dataframe_tf = pd.DataFrame(data = vetor_contador, columns = vetor_cont.get_feature_names_out())\n",
    "dataframe_tf.to_csv(r\".\\vetorizacao_tf.csv\",index=False)\n",
    "dataframe_tf"
   ]
  },
  {
   "cell_type": "code",
   "execution_count": null,
   "metadata": {},
   "outputs": [],
   "source": [
    "# TF-IDF\n",
    "\n",
    "vetorizador = TfidfVectorizer()\n",
    "vetorizacao_transformada = vetorizador.fit_transform(tweets_limpos)\n",
    "vetorizador.get_feature_names()\n",
    "vetor_x = vetorizacao_transformada.toarray()\n",
    "dataframe_tf_idf = pd.DataFrame(data = vetor_x, columns = vetorizador.get_feature_names())\n",
    "dataframe_tf_idf.to_csv(r\".\\vetorizacao_tf_idf.csv\",index=False)\n",
    "dataframe_tf_idf"
   ]
  },
  {
   "cell_type": "code",
   "execution_count": null,
   "metadata": {},
   "outputs": [],
   "source": [
    "# IDF\n",
    "\n",
    "dataframe_idf = dataframe_tf_idf/dataframe_tf\n",
    "dataframe_idf.to_csv(r\".\\vetorizacao_idf.csv\",index=False)\n",
    "dataframe_idf.fillna(0)"
   ]
  }
 ],
 "metadata": {
  "kernelspec": {
   "display_name": "Python 3.10.0 64-bit",
   "language": "python",
   "name": "python3"
  },
  "language_info": {
   "codemirror_mode": {
    "name": "ipython",
    "version": 3
   },
   "file_extension": ".py",
   "mimetype": "text/x-python",
   "name": "python",
   "nbconvert_exporter": "python",
   "pygments_lexer": "ipython3",
   "version": "3.10.0"
  },
  "orig_nbformat": 4,
  "vscode": {
   "interpreter": {
    "hash": "04eeb17173dda19b79ef31ce2f9124539f6d3d7f6428065f88e9861f21898bc8"
   }
  }
 },
 "nbformat": 4,
 "nbformat_minor": 2
}
